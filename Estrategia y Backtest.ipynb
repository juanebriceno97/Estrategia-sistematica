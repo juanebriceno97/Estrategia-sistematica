{
 "cells": [
  {
   "cell_type": "code",
   "execution_count": 1,
   "metadata": {},
   "outputs": [
    {
     "name": "stderr",
     "output_type": "stream",
     "text": [
      "/opt/anaconda3/lib/python3.7/site-packages/pandas_datareader/compat/__init__.py:7: FutureWarning: pandas.util.testing is deprecated. Use the functions in the public API at pandas.testing instead.\n",
      "  from pandas.util.testing import assert_frame_equal\n"
     ]
    }
   ],
   "source": [
    "import numpy as np\n",
    "import pandas as pd\n",
    "from pandas_datareader import data as wb"
   ]
  },
  {
   "cell_type": "markdown",
   "metadata": {},
   "source": [
    "Para evitar el sesgo de supervivencia (debido a que mi backtest lo voy a hacer con una ventana de 11 meses), en un archivo de Excel liste todas las compañias del indice Nasdaq, incluyendo las que fueron deslistadas en el último rebalanceo en diciembre de 2020. En este link se puede encontrar las compañias que se listaron y se deslistaron: https://www.globenewswire.com/news-release/2020/12/12/2144096/0/en/Annual-Changes-to-the-Nasdaq-100-Index.html"
   ]
  },
  {
   "cell_type": "code",
   "execution_count": 2,
   "metadata": {},
   "outputs": [],
   "source": [
    "companies_df = pd.read_excel('Nasdaq 100 companies.xlsx') #importo el archivo de excel con las compañias del indice\n",
    "tickers = companies_df.Symbol.to_list() #creo una lista con los tickers "
   ]
  },
  {
   "cell_type": "markdown",
   "metadata": {},
   "source": [
    "Para efectos de menor extension el código, mi estrategia la voy a ejecutar a tráves de una función. Como se describió en el taller 2, la estrategia que escogí consiste en calcular el TSI para todas las compañias (tomando informacion del último mes) e irme largo en la 5 compañias con mayor TSI.\n",
    "\n",
    "Lo que quiero de la funcion que programaré es que el output sea simplemente una lista con los tickers de las 5 compañias con mayor TSI."
   ]
  },
  {
   "cell_type": "markdown",
   "metadata": {},
   "source": [
    "Es importante mencionar que cada paso dentro de la función lo observe separadamente para observar que los cálculos fueran correctos, sin embargo como este es el notebook final decidi hacer todos los pasos dentro de una función por organización y eficiencia"
   ]
  },
  {
   "cell_type": "code",
   "execution_count": 3,
   "metadata": {},
   "outputs": [],
   "source": [
    "def momentum(start_date, close_date):\n",
    "    data = pd.DataFrame() #creo un data frame para la info del precio de cierre diario durante el último mes\n",
    "    for stock in tickers:\n",
    "        data[stock] = wb.DataReader(stock,data_source='yahoo',start=start_date,end=close_date)['Close'] #traigo la información al dataframe por medio de un loop\n",
    "    PC = data - data.shift(1) # calculo el cambio en el precio de cierre diario\n",
    "    Smooth_PC_25 = PC.ewm(span=25,adjust=False).mean() #calculo el EWMA de 25 dias del cambio en el precio\n",
    "    D_Smooth_PC_13 = Smooth_PC_25.ewm(span=13,adjust=False).mean() #calculo el EWMA de 13 dias del EWMA de 25 dias\n",
    "    ABS_PC = PC.abs() #calculo el cambio absoluto en el precio de cierre diario\n",
    "    Smooth_ABS_PC_25 = ABS_PC.ewm(span=25,adjust=False).mean() # calculo el EWMA d 25 dias del cambio absoluto en el precio\n",
    "    D_Smooth_ABS_PC_13 = Smooth_ABS_PC_25.ewm(span=13,adjust=False).mean() # calculo el EWMA DE 13 del EWMA anterior\n",
    "    TSI = 100 * (D_Smooth_PC_13/D_Smooth_ABS_PC_13) # calculo el TSI\n",
    "    TSI_last = TSI.iloc[-1] # guardo los últimos TSI disponibles\n",
    "    Buy = TSI_last.nlargest(5,\"last\") # escogo las 5 acciones con mayor TSI\n",
    "    stocks_to_buy = pd.DataFrame(data=Buy).T \n",
    "    tickers_to_buy = stocks_to_buy.columns # guado en una lista los tickers\n",
    "    return tickers_to_buy"
   ]
  },
  {
   "cell_type": "markdown",
   "metadata": {},
   "source": [
    "Mi idea es que el primer dia de cada mes pueda correr esta función para observar en cuales acciones me deberia ir largo. Para ver como funciona el codigo voy a correrlo para ver en que acciones me deberia ir largo el 1 de mayo de 2021."
   ]
  },
  {
   "cell_type": "code",
   "execution_count": 4,
   "metadata": {},
   "outputs": [
    {
     "data": {
      "text/plain": [
       "Index(['GOOG', 'GOOGL', 'XEL', 'VRSN', 'IDXX'], dtype='object')"
      ]
     },
     "execution_count": 4,
     "metadata": {},
     "output_type": "execute_result"
    }
   ],
   "source": [
    "momentum('2021-04-01','2021-04-30')"
   ]
  },
  {
   "cell_type": "markdown",
   "metadata": {},
   "source": [
    "Como se puede observar, los inputs de la función son las fechas de 1 de abril y el 30 de abril de 2021 (último mes disponible antes de la fecha en que quiero observar en que acciones me quiero ir largo)"
   ]
  },
  {
   "cell_type": "markdown",
   "metadata": {},
   "source": [
    "Mi idea para el backtesting es correr la estrategia en una ventana de 11 meses, y calcular los retornos de cada activo que la estrategia hubieron escogido para ver si ha funcionado o no."
   ]
  },
  {
   "cell_type": "code",
   "execution_count": 18,
   "metadata": {},
   "outputs": [],
   "source": [
    "returns = []\n",
    "long_on = []\n",
    "def accuracy(start_date,close_date,start_d_t,close_d_t):\n",
    "    long_on = list(momentum(start_date,close_date))\n",
    "    data_bt = pd.DataFrame()\n",
    "    for stock in long_on:\n",
    "        data_bt[stock] = wb.DataReader(stock,data_source='yahoo',start=start_d_t,end=close_d_t)['Close']\n",
    "    rt = (data_bt.iloc[-1]-data_bt.iloc[0])/data_bt.iloc[0]\n",
    "    returns = np.round(list(rt),decimals = 4)\n",
    "    return long_on, returns        "
   ]
  },
  {
   "cell_type": "code",
   "execution_count": 19,
   "metadata": {},
   "outputs": [
    {
     "data": {
      "text/plain": [
       "(['EXC', 'ORLY', 'FOXA', 'FOX', 'PEP'],\n",
       " array([0.0235, 0.0887, 0.0306, 0.0394, 0.0204]))"
      ]
     },
     "execution_count": 19,
     "metadata": {},
     "output_type": "execute_result"
    }
   ],
   "source": [
    "accuracy('2021-03-01','2021-03-31','2021-04-01','2021-04-30')"
   ]
  },
  {
   "cell_type": "markdown",
   "metadata": {},
   "source": [
    "Voy a explicar lo que esta haciendo la función accuracy. Los dos primeros inputs son las fechas del último mes disponible para escoger las acciones en largo. Los otros dos inputs son las fechas del mes donde se escogieron las acciones para ver si efectivamente el precio de las acciones elegidas aumentó. \n",
    "\n",
    "Lo que esta pasando es que se está replicando la estrategia y viendo si fue efectiva. Es muy importante aclarar que no se está efectuando \"look ahead bias\" porque es con la información del mes anterior que se escogen las acciones donde despues se observa si los precios de estas acciones subieron o bajaron al final del mes."
   ]
  },
  {
   "cell_type": "markdown",
   "metadata": {},
   "source": [
    "Por ejemplo para este caso las acciones que se hubieran elegido el 1 de abril de 2021 (como se ve en los dos primeros inputs se uso el mes de marzo para elegir esas acciones) todas tuvieron retornos positivos.\n",
    "\n",
    "Ahora solo queda correr la función de accuracy para todas las ventanas y observar los resultados.\n"
   ]
  },
  {
   "cell_type": "code",
   "execution_count": 20,
   "metadata": {},
   "outputs": [
    {
     "data": {
      "text/plain": [
       "(['EXPE', 'MAR', 'TCOM', 'BKNG', 'WDAY'],\n",
       " array([ 0.0675, -0.0024, -0.0033,  0.004 , -0.0173]))"
      ]
     },
     "execution_count": 20,
     "metadata": {},
     "output_type": "execute_result"
    }
   ],
   "source": [
    "accuracy('2021-02-01','2021-02-28','2021-03-01','2021-03-31')"
   ]
  },
  {
   "cell_type": "code",
   "execution_count": 21,
   "metadata": {},
   "outputs": [
    {
     "data": {
      "text/plain": [
       "(['LBTYK', 'LBTYA', 'ILMN', 'JD', 'PDD'],\n",
       " array([ 0.01  ,  0.025 , -0.009 ,  0.0285, -0.0161]))"
      ]
     },
     "execution_count": 21,
     "metadata": {},
     "output_type": "execute_result"
    }
   ],
   "source": [
    "accuracy('2021-01-01','2021-01-31','2021-02-01','2021-02-28')"
   ]
  },
  {
   "cell_type": "code",
   "execution_count": 22,
   "metadata": {},
   "outputs": [
    {
     "data": {
      "text/plain": [
       "(['BIDU', 'TTWO', 'ISRG', 'CDNS', 'EA'],\n",
       " array([ 0.084 , -0.0069, -0.0654, -0.0396,  0.0264]))"
      ]
     },
     "execution_count": 22,
     "metadata": {},
     "output_type": "execute_result"
    }
   ],
   "source": [
    "accuracy('2020-12-01','2020-12-31','2021-01-01','2021-01-31')"
   ]
  },
  {
   "cell_type": "code",
   "execution_count": 23,
   "metadata": {},
   "outputs": [
    {
     "data": {
      "text/plain": [
       "(['CMCSA', 'KLAC', 'LRCX', 'MU', 'PEP'],\n",
       " array([0.027 , 0.0088, 0.0099, 0.1208, 0.0153]))"
      ]
     },
     "execution_count": 23,
     "metadata": {},
     "output_type": "execute_result"
    }
   ],
   "source": [
    "accuracy('2020-11-01','2020-11-30','2020-12-01','2020-12-31')"
   ]
  },
  {
   "cell_type": "code",
   "execution_count": 24,
   "metadata": {},
   "outputs": [
    {
     "data": {
      "text/plain": [
       "(['AEP', 'ADP', 'EXC', 'ALGN', 'SPLK'],\n",
       " array([-0.0695,  0.0769,  0.0027,  0.0498,  0.0671]))"
      ]
     },
     "execution_count": 24,
     "metadata": {},
     "output_type": "execute_result"
    }
   ],
   "source": [
    "accuracy('2020-10-01','2020-10-31','2020-11-01','2020-11-30')"
   ]
  },
  {
   "cell_type": "code",
   "execution_count": 25,
   "metadata": {},
   "outputs": [
    {
     "data": {
      "text/plain": [
       "(['AEP', 'SGEN', 'ALGN', 'MU', 'CDW'],\n",
       " array([ 0.0827, -0.1571,  0.3415,  0.0505, -0.0073]))"
      ]
     },
     "execution_count": 25,
     "metadata": {},
     "output_type": "execute_result"
    }
   ],
   "source": [
    "accuracy('2020-09-01','2020-09-30','2020-10-01','2020-10-31')"
   ]
  },
  {
   "cell_type": "code",
   "execution_count": 26,
   "metadata": {},
   "outputs": [
    {
     "data": {
      "text/plain": [
       "(['CPRT', 'TXN', 'COST', 'CHTR', 'MAR'],\n",
       " array([ 0.011 , -0.015 ,  0.0103,  0.0115, -0.1019]))"
      ]
     },
     "execution_count": 26,
     "metadata": {},
     "output_type": "execute_result"
    }
   ],
   "source": [
    "accuracy('2020-08-01','2020-08-31','2020-09-01','2020-09-30')"
   ]
  },
  {
   "cell_type": "code",
   "execution_count": 27,
   "metadata": {},
   "outputs": [
    {
     "data": {
      "text/plain": [
       "(['PCAR', 'FAST', 'VRSK', 'XLNX', 'DOCU'],\n",
       " array([ 0.0027,  0.0295, -0.0016, -0.021 , -0.0145]))"
      ]
     },
     "execution_count": 27,
     "metadata": {},
     "output_type": "execute_result"
    }
   ],
   "source": [
    "accuracy('2020-07-01','2020-07-31','2020-08-01','2020-08-31')"
   ]
  },
  {
   "cell_type": "code",
   "execution_count": 28,
   "metadata": {},
   "outputs": [
    {
     "data": {
      "text/plain": [
       "(['PTON', 'QCOM', 'TXN', 'EBAY', 'ASML'],\n",
       " array([ 0.1323,  0.1763,  0.022 ,  0.0438, -0.0377]))"
      ]
     },
     "execution_count": 28,
     "metadata": {},
     "output_type": "execute_result"
    }
   ],
   "source": [
    "accuracy('2020-06-01','2020-06-30','2020-07-01','2020-07-31')"
   ]
  },
  {
   "cell_type": "code",
   "execution_count": 30,
   "metadata": {},
   "outputs": [
    {
     "data": {
      "text/plain": [
       "(['TSLA', 'EBAY', 'OKTA', 'CDNS', 'ADSK'],\n",
       " array([ 0.2023,  0.1604, -0.0222,  0.0467,  0.0907]))"
      ]
     },
     "execution_count": 30,
     "metadata": {},
     "output_type": "execute_result"
    }
   ],
   "source": [
    "accuracy('2020-05-01','2020-05-31','2020-06-01','2020-06-30')"
   ]
  },
  {
   "cell_type": "markdown",
   "metadata": {},
   "source": [
    "Es importante comparar los retornos de la estrategia con un benchmark, porque aunque la estrategia funcione (obtenga retornos positivos), puede pasar que esos retornos no sean mayores a los del mercado, haciendo que la estrategia sea ineficiente.\n",
    "\n",
    "El benchmark que elegire es el indice SP500. "
   ]
  },
  {
   "cell_type": "code",
   "execution_count": 69,
   "metadata": {},
   "outputs": [],
   "source": [
    "import numpy as np\n",
    "import pandas as pd\n",
    "from pandas_datareader import data as wb\n",
    "import matplotlib.pyplot as plt"
   ]
  },
  {
   "cell_type": "markdown",
   "metadata": {},
   "source": [
    "A continuación calcularé los retornos mensuales del S&P 500 durante la ventana escogida."
   ]
  },
  {
   "cell_type": "code",
   "execution_count": 70,
   "metadata": {},
   "outputs": [],
   "source": [
    "SP_ticker = ['^GSPC']\n",
    "def monthly_returns_SP(start,close):\n",
    "    data_sp = pd.DataFrame()\n",
    "    for stock in SP_ticker:\n",
    "        data_sp[stock] = wb.DataReader(stock,data_source='yahoo',start=start,end=close)['Close']\n",
    "        ret = (data_sp.iloc[-1]-data_sp.iloc[0])/data_sp.iloc[0]\n",
    "        ret_array = np.round(ret,decimals = 4)\n",
    "    return ret_array    "
   ]
  },
  {
   "cell_type": "code",
   "execution_count": 71,
   "metadata": {},
   "outputs": [
    {
     "data": {
      "text/plain": [
       "^GSPC    0.0401\n",
       "dtype: float64"
      ]
     },
     "execution_count": 71,
     "metadata": {},
     "output_type": "execute_result"
    }
   ],
   "source": [
    "monthly_returns_SP('2021-04-01','2021-04-30')"
   ]
  },
  {
   "cell_type": "code",
   "execution_count": 72,
   "metadata": {},
   "outputs": [
    {
     "data": {
      "text/plain": [
       "^GSPC    0.0182\n",
       "dtype: float64"
      ]
     },
     "execution_count": 72,
     "metadata": {},
     "output_type": "execute_result"
    }
   ],
   "source": [
    "monthly_returns_SP('2021-03-01','2021-03-31')"
   ]
  },
  {
   "cell_type": "code",
   "execution_count": 73,
   "metadata": {},
   "outputs": [
    {
     "data": {
      "text/plain": [
       "^GSPC    0.0099\n",
       "dtype: float64"
      ]
     },
     "execution_count": 73,
     "metadata": {},
     "output_type": "execute_result"
    }
   ],
   "source": [
    "monthly_returns_SP('2021-02-01','2021-02-28')"
   ]
  },
  {
   "cell_type": "code",
   "execution_count": 74,
   "metadata": {},
   "outputs": [
    {
     "data": {
      "text/plain": [
       "^GSPC    0.0037\n",
       "dtype: float64"
      ]
     },
     "execution_count": 74,
     "metadata": {},
     "output_type": "execute_result"
    }
   ],
   "source": [
    "monthly_returns_SP('2021-01-01','2021-01-31')"
   ]
  },
  {
   "cell_type": "code",
   "execution_count": 75,
   "metadata": {},
   "outputs": [
    {
     "data": {
      "text/plain": [
       "^GSPC    0.0256\n",
       "dtype: float64"
      ]
     },
     "execution_count": 75,
     "metadata": {},
     "output_type": "execute_result"
    }
   ],
   "source": [
    "monthly_returns_SP('2020-12-01','2020-12-31')"
   ]
  },
  {
   "cell_type": "code",
   "execution_count": 76,
   "metadata": {},
   "outputs": [
    {
     "data": {
      "text/plain": [
       "^GSPC    0.0941\n",
       "dtype: float64"
      ]
     },
     "execution_count": 76,
     "metadata": {},
     "output_type": "execute_result"
    }
   ],
   "source": [
    "monthly_returns_SP('2020-11-01','2020-11-30')"
   ]
  },
  {
   "cell_type": "code",
   "execution_count": 77,
   "metadata": {},
   "outputs": [
    {
     "data": {
      "text/plain": [
       "^GSPC   -0.0328\n",
       "dtype: float64"
      ]
     },
     "execution_count": 77,
     "metadata": {},
     "output_type": "execute_result"
    }
   ],
   "source": [
    "monthly_returns_SP('2020-10-01','2020-10-31')"
   ]
  },
  {
   "cell_type": "code",
   "execution_count": 78,
   "metadata": {},
   "outputs": [
    {
     "data": {
      "text/plain": [
       "^GSPC   -0.0464\n",
       "dtype: float64"
      ]
     },
     "execution_count": 78,
     "metadata": {},
     "output_type": "execute_result"
    }
   ],
   "source": [
    "monthly_returns_SP('2020-09-01','2020-09-30')"
   ]
  },
  {
   "cell_type": "code",
   "execution_count": 79,
   "metadata": {},
   "outputs": [
    {
     "data": {
      "text/plain": [
       "^GSPC    0.0624\n",
       "dtype: float64"
      ]
     },
     "execution_count": 79,
     "metadata": {},
     "output_type": "execute_result"
    }
   ],
   "source": [
    "monthly_returns_SP('2020-08-01','2020-08-31')"
   ]
  },
  {
   "cell_type": "code",
   "execution_count": 80,
   "metadata": {},
   "outputs": [
    {
     "data": {
      "text/plain": [
       "^GSPC    0.0498\n",
       "dtype: float64"
      ]
     },
     "execution_count": 80,
     "metadata": {},
     "output_type": "execute_result"
    }
   ],
   "source": [
    "monthly_returns_SP('2020-07-01','2020-07-31')"
   ]
  },
  {
   "cell_type": "code",
   "execution_count": 81,
   "metadata": {},
   "outputs": [
    {
     "data": {
      "text/plain": [
       "^GSPC    0.0146\n",
       "dtype: float64"
      ]
     },
     "execution_count": 81,
     "metadata": {},
     "output_type": "execute_result"
    }
   ],
   "source": [
    "monthly_returns_SP('2020-06-01','2020-06-30')"
   ]
  },
  {
   "cell_type": "code",
   "execution_count": 82,
   "metadata": {},
   "outputs": [
    {
     "data": {
      "text/html": [
       "<div>\n",
       "<style scoped>\n",
       "    .dataframe tbody tr th:only-of-type {\n",
       "        vertical-align: middle;\n",
       "    }\n",
       "\n",
       "    .dataframe tbody tr th {\n",
       "        vertical-align: top;\n",
       "    }\n",
       "\n",
       "    .dataframe thead th {\n",
       "        text-align: right;\n",
       "    }\n",
       "</style>\n",
       "<table border=\"1\" class=\"dataframe\">\n",
       "  <thead>\n",
       "    <tr style=\"text-align: right;\">\n",
       "      <th></th>\n",
       "      <th>SP500</th>\n",
       "      <th>Estrategia</th>\n",
       "    </tr>\n",
       "  </thead>\n",
       "  <tbody>\n",
       "    <tr>\n",
       "      <th>2020-06-30</th>\n",
       "      <td>0.0146</td>\n",
       "      <td>0.4779</td>\n",
       "    </tr>\n",
       "    <tr>\n",
       "      <th>2020-07-31</th>\n",
       "      <td>0.0498</td>\n",
       "      <td>0.3367</td>\n",
       "    </tr>\n",
       "    <tr>\n",
       "      <th>2020-08-31</th>\n",
       "      <td>0.0624</td>\n",
       "      <td>-0.0049</td>\n",
       "    </tr>\n",
       "    <tr>\n",
       "      <th>2020-09-30</th>\n",
       "      <td>-0.0464</td>\n",
       "      <td>-0.0841</td>\n",
       "    </tr>\n",
       "    <tr>\n",
       "      <th>2020-10-31</th>\n",
       "      <td>-0.0328</td>\n",
       "      <td>0.3103</td>\n",
       "    </tr>\n",
       "    <tr>\n",
       "      <th>2020-11-30</th>\n",
       "      <td>0.0941</td>\n",
       "      <td>0.1270</td>\n",
       "    </tr>\n",
       "    <tr>\n",
       "      <th>2020-12-31</th>\n",
       "      <td>0.0256</td>\n",
       "      <td>0.1818</td>\n",
       "    </tr>\n",
       "    <tr>\n",
       "      <th>2021-01-31</th>\n",
       "      <td>0.0037</td>\n",
       "      <td>-0.0015</td>\n",
       "    </tr>\n",
       "    <tr>\n",
       "      <th>2021-02-28</th>\n",
       "      <td>0.0099</td>\n",
       "      <td>0.0384</td>\n",
       "    </tr>\n",
       "    <tr>\n",
       "      <th>2021-03-31</th>\n",
       "      <td>0.0182</td>\n",
       "      <td>0.0485</td>\n",
       "    </tr>\n",
       "    <tr>\n",
       "      <th>2021-04-30</th>\n",
       "      <td>0.0401</td>\n",
       "      <td>0.2026</td>\n",
       "    </tr>\n",
       "  </tbody>\n",
       "</table>\n",
       "</div>"
      ],
      "text/plain": [
       "             SP500  Estrategia\n",
       "2020-06-30  0.0146      0.4779\n",
       "2020-07-31  0.0498      0.3367\n",
       "2020-08-31  0.0624     -0.0049\n",
       "2020-09-30 -0.0464     -0.0841\n",
       "2020-10-31 -0.0328      0.3103\n",
       "2020-11-30  0.0941      0.1270\n",
       "2020-12-31  0.0256      0.1818\n",
       "2021-01-31  0.0037     -0.0015\n",
       "2021-02-28  0.0099      0.0384\n",
       "2021-03-31  0.0182      0.0485\n",
       "2021-04-30  0.0401      0.2026"
      ]
     },
     "execution_count": 82,
     "metadata": {},
     "output_type": "execute_result"
    }
   ],
   "source": [
    "Date = ['2020-06-30','2020-07-31','2020-08-31','2020-09-30','2020-10-31','2020-11-30','2020-12-31','2021-01-31','2021-02-28','2021-03-31','2021-04-30']\n",
    "SP_returns = [0.0146,0.0498,0.0624,-0.0464,-0.0328,0.0941,0.0256,0.0037,0.0099,0.0182,0.0401]\n",
    "Strategy_returns = [0.4779,0.3367,-0.0049,-0.0841,0.3103,0.127,0.1818,-0.0015,0.0384,0.0485,0.2026]\n",
    "\n",
    "returns_paired = [[0.0146,0.4779],\n",
    "            [0.0498,0.3367],\n",
    "            [0.0624,-0.0049],\n",
    "            [-0.0464,-0.0841],\n",
    "            [-0.0328,0.3103],\n",
    "                 [0.0941,0.127],\n",
    "                 [0.0256,0.1818],\n",
    "                 [0.0037,-0.0015],\n",
    "                 [0.0099,0.0384],\n",
    "                 [0.0182,0.0485],\n",
    "                 [0.0401,0.2026]]\n",
    "df_returns = pd.DataFrame(returns_paired, columns = [ 'SP500', 'Estrategia'], index=Date)\n",
    "df_returns"
   ]
  },
  {
   "cell_type": "markdown",
   "metadata": {},
   "source": [
    "Como se puede observar solo en 3 ocasiones los retornos del S&P500 fueron superiores a los de  la estrategia."
   ]
  },
  {
   "cell_type": "markdown",
   "metadata": {},
   "source": [
    "Voy a crear un grafico que compare los retornos mensuales de la estrategia vs el S&P500"
   ]
  },
  {
   "cell_type": "code",
   "execution_count": 83,
   "metadata": {},
   "outputs": [
    {
     "data": {
      "image/png": "[encoded data removed]",
      "text/plain": [
       "<Figure size 878.4x324 with 1 Axes>"
      ]
     },
     "metadata": {
      "needs_background": "light"
     },
     "output_type": "display_data"
    }
   ],
   "source": [
    "plt.figure(figsize=(12.2,4.5))\n",
    "plt.title('S&P 500 vs Estrategia',fontsize=15)\n",
    "plt.xlabel('Fecha', fontsize=15)\n",
    "plt.ylabel('Retorno', fontsize=15)\n",
    "plt.plot(df_returns['SP500'], label = 'SP500', color ='blue')\n",
    "plt.plot(df_returns['Estrategia'], label = 'Estrategia', color ='green')\n",
    "plt.legend()\n",
    "plt.grid()\n",
    "plt.show()"
   ]
  },
  {
   "cell_type": "markdown",
   "metadata": {},
   "source": [
    "Ahora también es importante observar la volatilidad de la estrategia y compararla con la del S&P500. A continuacion efectua el cálculo de la volatilidad mensual."
   ]
  },
  {
   "cell_type": "code",
   "execution_count": 84,
   "metadata": {},
   "outputs": [],
   "source": [
    "tick1 = ['TSLA', 'EBAY', 'OKTA', 'CDNS', 'ADSK']\n",
    "tick2 = ['PTON', 'QCOM', 'TXN', 'EBAY', 'ASML']\n",
    "tick3 = ['PCAR', 'FAST', 'VRSK', 'XLNX', 'DOCU']\n",
    "tick4 = ['CPRT', 'TXN', 'COST', 'CHTR', 'MAR']\n",
    "tick5 = ['AEP', 'SGEN', 'ALGN', 'MU', 'CDW']\n",
    "tick6 = ['AEP', 'ADP', 'EXC', 'ALGN', 'SPLK']\n",
    "tick7 = ['CMCSA', 'KLAC', 'LRCX', 'MU', 'PEP']\n",
    "tick8 = ['BIDU', 'TTWO', 'ISRG', 'CDNS', 'EA']\n",
    "tick9 = ['LBTYK', 'LBTYA', 'ILMN', 'JD', 'PDD']\n",
    "tick10 = ['EXPE', 'MAR', 'TCOM', 'BKNG', 'WDAY']\n",
    "tick11 = ['EXC', 'ORLY', 'FOXA', 'FOX', 'PEP']\n",
    "tick_bench = ['^GSPC']"
   ]
  },
  {
   "cell_type": "code",
   "execution_count": 85,
   "metadata": {},
   "outputs": [],
   "source": [
    "def volatility(tick,startd,closed,window):\n",
    "    data_vol = pd.DataFrame()\n",
    "    for stock in tick:\n",
    "        data_vol[stock] = wb.DataReader(stock,data_source='yahoo',start=startd,end=closed)['Close']\n",
    "    returns_t = np.log(data_vol/data_vol.shift(1))\n",
    "    var = returns_t.var()*window\n",
    "    var_tot = sum(var)\n",
    "    vol = np.round(np.sqrt(var_tot),decimals = 4)\n",
    "    return vol"
   ]
  },
  {
   "cell_type": "code",
   "execution_count": 86,
   "metadata": {},
   "outputs": [
    {
     "data": {
      "text/plain": [
       "0.3186"
      ]
     },
     "execution_count": 86,
     "metadata": {},
     "output_type": "execute_result"
    }
   ],
   "source": [
    "volatility(tick1,'2020-06-01','2020-06-30',29)"
   ]
  },
  {
   "cell_type": "code",
   "execution_count": 87,
   "metadata": {},
   "outputs": [
    {
     "data": {
      "text/plain": [
       "0.3625"
      ]
     },
     "execution_count": 87,
     "metadata": {},
     "output_type": "execute_result"
    }
   ],
   "source": [
    "volatility(tick2,'2020-07-01','2020-07-31',30)"
   ]
  },
  {
   "cell_type": "code",
   "execution_count": 88,
   "metadata": {},
   "outputs": [
    {
     "data": {
      "text/plain": [
       "0.1824"
      ]
     },
     "execution_count": 88,
     "metadata": {},
     "output_type": "execute_result"
    }
   ],
   "source": [
    "volatility(tick3,'2020-08-01','2020-08-31',30)"
   ]
  },
  {
   "cell_type": "code",
   "execution_count": 89,
   "metadata": {},
   "outputs": [
    {
     "data": {
      "text/plain": [
       "0.2391"
      ]
     },
     "execution_count": 89,
     "metadata": {},
     "output_type": "execute_result"
    }
   ],
   "source": [
    "volatility(tick4,'2020-09-01','2020-09-30',29)"
   ]
  },
  {
   "cell_type": "code",
   "execution_count": 90,
   "metadata": {},
   "outputs": [
    {
     "data": {
      "text/plain": [
       "0.4517"
      ]
     },
     "execution_count": 90,
     "metadata": {},
     "output_type": "execute_result"
    }
   ],
   "source": [
    "volatility(tick5,'2020-10-01','2020-10-31',30)"
   ]
  },
  {
   "cell_type": "code",
   "execution_count": 91,
   "metadata": {},
   "outputs": [
    {
     "data": {
      "text/plain": [
       "0.2309"
      ]
     },
     "execution_count": 91,
     "metadata": {},
     "output_type": "execute_result"
    }
   ],
   "source": [
    "volatility(tick6,'2020-11-01','2020-11-30',29)"
   ]
  },
  {
   "cell_type": "code",
   "execution_count": 92,
   "metadata": {},
   "outputs": [
    {
     "data": {
      "text/plain": [
       "0.1746"
      ]
     },
     "execution_count": 92,
     "metadata": {},
     "output_type": "execute_result"
    }
   ],
   "source": [
    "volatility(tick7,'2020-12-01','2020-12-31',30)"
   ]
  },
  {
   "cell_type": "code",
   "execution_count": 93,
   "metadata": {},
   "outputs": [
    {
     "data": {
      "text/plain": [
       "0.3879"
      ]
     },
     "execution_count": 93,
     "metadata": {},
     "output_type": "execute_result"
    }
   ],
   "source": [
    "volatility(tick8,'2021-01-01','2021-01-31',30)"
   ]
  },
  {
   "cell_type": "code",
   "execution_count": 94,
   "metadata": {},
   "outputs": [
    {
     "data": {
      "text/plain": [
       "0.3245"
      ]
     },
     "execution_count": 94,
     "metadata": {},
     "output_type": "execute_result"
    }
   ],
   "source": [
    "volatility(tick9,'2021-02-01','2021-02-28',27)"
   ]
  },
  {
   "cell_type": "code",
   "execution_count": 95,
   "metadata": {},
   "outputs": [
    {
     "data": {
      "text/plain": [
       "0.3087"
      ]
     },
     "execution_count": 95,
     "metadata": {},
     "output_type": "execute_result"
    }
   ],
   "source": [
    "volatility(tick10,'2021-03-01','2021-03-31',30)"
   ]
  },
  {
   "cell_type": "code",
   "execution_count": 96,
   "metadata": {},
   "outputs": [
    {
     "data": {
      "text/plain": [
       "0.1111"
      ]
     },
     "execution_count": 96,
     "metadata": {},
     "output_type": "execute_result"
    }
   ],
   "source": [
    "volatility(tick11,'2021-04-01','2021-04-30',29)"
   ]
  },
  {
   "cell_type": "markdown",
   "metadata": {},
   "source": [
    "ahora calculamos las volatilidades mensuales del SP500"
   ]
  },
  {
   "cell_type": "code",
   "execution_count": 97,
   "metadata": {},
   "outputs": [
    {
     "data": {
      "text/plain": [
       "0.1035"
      ]
     },
     "execution_count": 97,
     "metadata": {},
     "output_type": "execute_result"
    }
   ],
   "source": [
    "volatility(tick_bench,'2020-06-01','2020-06-30',29)"
   ]
  },
  {
   "cell_type": "code",
   "execution_count": 98,
   "metadata": {},
   "outputs": [
    {
     "data": {
      "text/plain": [
       "0.0468"
      ]
     },
     "execution_count": 98,
     "metadata": {},
     "output_type": "execute_result"
    }
   ],
   "source": [
    "volatility(tick_bench,'2020-07-01','2020-07-31',30)"
   ]
  },
  {
   "cell_type": "code",
   "execution_count": 99,
   "metadata": {},
   "outputs": [
    {
     "data": {
      "text/plain": [
       "0.0282"
      ]
     },
     "execution_count": 99,
     "metadata": {},
     "output_type": "execute_result"
    }
   ],
   "source": [
    "volatility(tick_bench,'2020-08-01','2020-08-31',30)"
   ]
  },
  {
   "cell_type": "code",
   "execution_count": 100,
   "metadata": {},
   "outputs": [
    {
     "data": {
      "text/plain": [
       "0.0856"
      ]
     },
     "execution_count": 100,
     "metadata": {},
     "output_type": "execute_result"
    }
   ],
   "source": [
    "volatility(tick_bench,'2020-09-01','2020-09-30',29)"
   ]
  },
  {
   "cell_type": "code",
   "execution_count": 101,
   "metadata": {},
   "outputs": [
    {
     "data": {
      "text/plain": [
       "0.0737"
      ]
     },
     "execution_count": 101,
     "metadata": {},
     "output_type": "execute_result"
    }
   ],
   "source": [
    "volatility(tick_bench,'2020-10-01','2020-10-31',30)"
   ]
  },
  {
   "cell_type": "code",
   "execution_count": 102,
   "metadata": {},
   "outputs": [
    {
     "data": {
      "text/plain": [
       "0.0551"
      ]
     },
     "execution_count": 102,
     "metadata": {},
     "output_type": "execute_result"
    }
   ],
   "source": [
    "volatility(tick_bench,'2020-11-01','2020-11-30',29)"
   ]
  },
  {
   "cell_type": "code",
   "execution_count": 103,
   "metadata": {},
   "outputs": [
    {
     "data": {
      "text/plain": [
       "0.0279"
      ]
     },
     "execution_count": 103,
     "metadata": {},
     "output_type": "execute_result"
    }
   ],
   "source": [
    "volatility(tick_bench,'2020-12-01','2020-12-31',30)"
   ]
  },
  {
   "cell_type": "code",
   "execution_count": 104,
   "metadata": {},
   "outputs": [
    {
     "data": {
      "text/plain": [
       "0.0575"
      ]
     },
     "execution_count": 104,
     "metadata": {},
     "output_type": "execute_result"
    }
   ],
   "source": [
    "volatility(tick_bench,'2021-01-01','2021-01-31',30)"
   ]
  },
  {
   "cell_type": "code",
   "execution_count": 105,
   "metadata": {},
   "outputs": [
    {
     "data": {
      "text/plain": [
       "0.0445"
      ]
     },
     "execution_count": 105,
     "metadata": {},
     "output_type": "execute_result"
    }
   ],
   "source": [
    "volatility(tick_bench,'2021-02-01','2021-02-28',27)"
   ]
  },
  {
   "cell_type": "code",
   "execution_count": 106,
   "metadata": {},
   "outputs": [
    {
     "data": {
      "text/plain": [
       "0.0519"
      ]
     },
     "execution_count": 106,
     "metadata": {},
     "output_type": "execute_result"
    }
   ],
   "source": [
    "volatility(tick_bench,'2021-03-01','2021-03-31',30)"
   ]
  },
  {
   "cell_type": "code",
   "execution_count": 107,
   "metadata": {},
   "outputs": [
    {
     "data": {
      "text/plain": [
       "0.0357"
      ]
     },
     "execution_count": 107,
     "metadata": {},
     "output_type": "execute_result"
    }
   ],
   "source": [
    "volatility(tick_bench,'2021-04-01','2021-04-30',29)"
   ]
  },
  {
   "cell_type": "code",
   "execution_count": 112,
   "metadata": {},
   "outputs": [
    {
     "data": {
      "text/html": [
       "<div>\n",
       "<style scoped>\n",
       "    .dataframe tbody tr th:only-of-type {\n",
       "        vertical-align: middle;\n",
       "    }\n",
       "\n",
       "    .dataframe tbody tr th {\n",
       "        vertical-align: top;\n",
       "    }\n",
       "\n",
       "    .dataframe thead th {\n",
       "        text-align: right;\n",
       "    }\n",
       "</style>\n",
       "<table border=\"1\" class=\"dataframe\">\n",
       "  <thead>\n",
       "    <tr style=\"text-align: right;\">\n",
       "      <th></th>\n",
       "      <th>SP500</th>\n",
       "      <th>Estrategia</th>\n",
       "    </tr>\n",
       "  </thead>\n",
       "  <tbody>\n",
       "    <tr>\n",
       "      <th>2020-06-30</th>\n",
       "      <td>0.1035</td>\n",
       "      <td>0.3186</td>\n",
       "    </tr>\n",
       "    <tr>\n",
       "      <th>2020-07-31</th>\n",
       "      <td>0.0468</td>\n",
       "      <td>0.3625</td>\n",
       "    </tr>\n",
       "    <tr>\n",
       "      <th>2020-08-31</th>\n",
       "      <td>0.0282</td>\n",
       "      <td>0.1824</td>\n",
       "    </tr>\n",
       "    <tr>\n",
       "      <th>2020-09-30</th>\n",
       "      <td>0.0856</td>\n",
       "      <td>0.2391</td>\n",
       "    </tr>\n",
       "    <tr>\n",
       "      <th>2020-10-31</th>\n",
       "      <td>0.0737</td>\n",
       "      <td>0.4517</td>\n",
       "    </tr>\n",
       "    <tr>\n",
       "      <th>2020-11-30</th>\n",
       "      <td>0.0551</td>\n",
       "      <td>0.2309</td>\n",
       "    </tr>\n",
       "    <tr>\n",
       "      <th>2020-12-31</th>\n",
       "      <td>0.0279</td>\n",
       "      <td>0.1746</td>\n",
       "    </tr>\n",
       "    <tr>\n",
       "      <th>2021-01-31</th>\n",
       "      <td>0.0575</td>\n",
       "      <td>0.3819</td>\n",
       "    </tr>\n",
       "    <tr>\n",
       "      <th>2021-02-28</th>\n",
       "      <td>0.0445</td>\n",
       "      <td>0.3245</td>\n",
       "    </tr>\n",
       "    <tr>\n",
       "      <th>2021-03-31</th>\n",
       "      <td>0.0519</td>\n",
       "      <td>0.3087</td>\n",
       "    </tr>\n",
       "    <tr>\n",
       "      <th>2021-04-30</th>\n",
       "      <td>0.0357</td>\n",
       "      <td>0.1111</td>\n",
       "    </tr>\n",
       "  </tbody>\n",
       "</table>\n",
       "</div>"
      ],
      "text/plain": [
       "             SP500  Estrategia\n",
       "2020-06-30  0.1035      0.3186\n",
       "2020-07-31  0.0468      0.3625\n",
       "2020-08-31  0.0282      0.1824\n",
       "2020-09-30  0.0856      0.2391\n",
       "2020-10-31  0.0737      0.4517\n",
       "2020-11-30  0.0551      0.2309\n",
       "2020-12-31  0.0279      0.1746\n",
       "2021-01-31  0.0575      0.3819\n",
       "2021-02-28  0.0445      0.3245\n",
       "2021-03-31  0.0519      0.3087\n",
       "2021-04-30  0.0357      0.1111"
      ]
     },
     "execution_count": 112,
     "metadata": {},
     "output_type": "execute_result"
    }
   ],
   "source": [
    "Date = ['2020-06-30','2020-07-31','2020-08-31','2020-09-30','2020-10-31','2020-11-30','2020-12-31','2021-01-31','2021-02-28','2021-03-31','2021-04-30']\n",
    "SP_vol = [0.1035,0.0468,0.0282,0.0856,0.0737,0.0551,0.0279,0.0575,0.0445,0.0519,0.0357]\n",
    "Strategy_vol = [0.3186,0.3625,0.1824,0.2391,0.4517,0.2309,0.1746,0.3819,0.3245,0.3087,0.1111]\n",
    "\n",
    "vol_paired = [[0.1035,0.3186],\n",
    "            [0.0468,0.3625],\n",
    "            [0.0282,0.1824],\n",
    "            [0.0856,0.2391],\n",
    "            [0.0737,0.4517],\n",
    "                 [0.0551,0.2309],\n",
    "                 [0.0279,0.1746],\n",
    "                 [0.0575,0.3819],\n",
    "                 [0.0445,0.3245],\n",
    "                 [0.0519,0.3087],\n",
    "                 [0.0357,0.1111]]\n",
    "df_vol = pd.DataFrame(vol_paired, columns = [ 'SP500', 'Estrategia'], index=Date)\n",
    "df_vol"
   ]
  },
  {
   "cell_type": "code",
   "execution_count": 113,
   "metadata": {},
   "outputs": [
    {
     "data": {
      "image/png": "[encoded data removed]",
      "text/plain": [
       "<Figure size 878.4x324 with 1 Axes>"
      ]
     },
     "metadata": {
      "needs_background": "light"
     },
     "output_type": "display_data"
    }
   ],
   "source": [
    "plt.figure(figsize=(12.2,4.5))\n",
    "plt.title('Volatilidad S&P 500 vs Estrategia',fontsize=15)\n",
    "plt.xlabel('Fecha', fontsize=15)\n",
    "plt.ylabel('Volatilidad', fontsize=15)\n",
    "plt.plot(df_vol['SP500'], label = 'SP500', color ='blue')\n",
    "plt.plot(df_vol['Estrategia'], label = 'Estrategia', color ='green')\n",
    "plt.legend()\n",
    "plt.grid()\n",
    "plt.show()"
   ]
  },
  {
   "cell_type": "markdown",
   "metadata": {},
   "source": [
    "Finalmente voy a calcular el retorno y volatilidad promedio de la estartegia durante los 11 meses, y compararlo con el del mercado"
   ]
  },
  {
   "cell_type": "code",
   "execution_count": 119,
   "metadata": {},
   "outputs": [
    {
     "data": {
      "text/plain": [
       "SP500         0.021745\n",
       "Estrategia    0.148427\n",
       "dtype: float64"
      ]
     },
     "execution_count": 119,
     "metadata": {},
     "output_type": "execute_result"
    }
   ],
   "source": [
    "Ret = df_returns.mean()\n",
    "Ret"
   ]
  },
  {
   "cell_type": "code",
   "execution_count": 120,
   "metadata": {},
   "outputs": [
    {
     "data": {
      "text/plain": [
       "SP500         0.055491\n",
       "Estrategia    0.280545\n",
       "dtype: float64"
      ]
     },
     "execution_count": 120,
     "metadata": {},
     "output_type": "execute_result"
    }
   ],
   "source": [
    "Vol =df_vol.mean()\n",
    "Vol"
   ]
  },
  {
   "cell_type": "code",
   "execution_count": null,
   "metadata": {},
   "outputs": [],
   "source": []
  }
 ],
 "metadata": {
  "kernelspec": {
   "display_name": "Python 3",
   "language": "python",
   "name": "python3"
  },
  "language_info": {
   "codemirror_mode": {
    "name": "ipython",
    "version": 3
   },
   "file_extension": ".py",
   "mimetype": "text/x-python",
   "name": "python",
   "nbconvert_exporter": "python",
   "pygments_lexer": "ipython3",
   "version": "3.7.6"
  }
 },
 "nbformat": 4,
 "nbformat_minor": 4
}
